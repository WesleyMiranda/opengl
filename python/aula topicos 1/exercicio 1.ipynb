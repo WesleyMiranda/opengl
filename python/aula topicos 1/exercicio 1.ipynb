{
 "cells": [
  {
   "cell_type": "markdown",
   "metadata": {
    "id": "TK8E6jdTpxUg"
   },
   "source": [
    "# <font color='blue'>Tópicos Especiais 1 </font>\n",
    "### <font color='blue'>Exercícios de Variáveis </font>\n",
    "    "
   ]
  },
  {
   "cell_type": "markdown",
   "metadata": {
    "id": "kzVyvzF5pzEF"
   },
   "source": [
    "Nome: <br/>\n",
    "\n",
    "\n",
    "\n",
    "\n"
   ]
  },
  {
   "cell_type": "markdown",
   "metadata": {
    "id": "wEJG1wcXpxUl"
   },
   "source": [
    "## Exercícios Cap02"
   ]
  },
  {
   "cell_type": "code",
   "execution_count": null,
   "metadata": {},
   "outputs": [],
   "source": [
    "# Exercício 1 - Faça um programa que pergunte o seu nome o exiba na tela."
   ]
  },
  {
   "cell_type": "code",
   "execution_count": 1,
   "metadata": {},
   "outputs": [
    {
     "name": "stdout",
     "output_type": "stream",
     "text": [
      "Qual o seu nome? Wes\n",
      "Você se chama Wes\n"
     ]
    }
   ],
   "source": [
    "nome = input('Qual o seu nome? ');\n",
    "print(\"Você se chama %s\" %nome);"
   ]
  },
  {
   "cell_type": "code",
   "execution_count": null,
   "metadata": {},
   "outputs": [],
   "source": [
    "# Exercício 2 - Crie duas variáveis \"a\" e \"b\". Exiba na tela o resultado de 2a x 3b. Atribua a \"a\" o valor de 3 e \"b\" \n",
    "# o valor de 5."
   ]
  },
  {
   "cell_type": "code",
   "execution_count": 2,
   "metadata": {},
   "outputs": [
    {
     "name": "stdout",
     "output_type": "stream",
     "text": [
      "90\n"
     ]
    }
   ],
   "source": [
    "a, b = 3, 5\n",
    "print(2*a*3*b)"
   ]
  },
  {
   "cell_type": "code",
   "execution_count": null,
   "metadata": {},
   "outputs": [],
   "source": [
    "# Exercício 3 - Faça um programa em que você atribui valor a três variáveis. Depois imprima a soma das três na tela."
   ]
  },
  {
   "cell_type": "code",
   "execution_count": null,
   "metadata": {},
   "outputs": [],
   "source": [
    "# Exercício 4 - Faça um programa que calcule o aumento de salário. Ele deve solicitar o valor do salário e a porcentagem de \n",
    "# aumento. Exiba o valor do aumento e do novo salário"
   ]
  },
  {
   "cell_type": "code",
   "execution_count": 1,
   "metadata": {},
   "outputs": [],
   "source": [
    "# Exercício 5- Crie uma lista com os elementos a seguir: 10, 3.14, 'Tópicos Especiais 1'. Além desses três elementos,\n",
    "# no um quarto elemento coloque uma lista aninhada com o valor 20 dentro dela. Utilize a função type() e a indexação\n",
    "# e faça o python imprimir na tela o tipo de cada elemento da lista maior. "
   ]
  },
  {
   "cell_type": "code",
   "execution_count": null,
   "metadata": {},
   "outputs": [],
   "source": [
    "# Exercício 6- Considere as seguintes variáveis a=4, b=10, c= 5.0 d=1 e f=5. Utilizando as expressões relacionais responda as\n",
    "# perguntas a seguir:\n",
    "# \"a\" é igual a \"c\"?\n",
    "# \"b\" é menor que \"a\"?\n",
    "# \"d\" é maior que \"b\"?\n",
    "# \"c\" é diferente de \"f\"?\n",
    "# \"a\" é igual a \"b\"?\n",
    "# \"c\" é menor que \"b\"?\n",
    "# \"b\" é maior que \"a\"?\n",
    "# \"c\" é maior ou igual a \"f\"?\n",
    "# \"f\" é maior ou igual a \"c\"?\n",
    "# \"c\" é menor ou igual a \"c\"?\n",
    "# \"c\" é menor ou igual a \"f\"?"
   ]
  },
  {
   "cell_type": "code",
   "execution_count": null,
   "metadata": {},
   "outputs": [],
   "source": [
    "# Exercício 7- Considere os valores lógicos das varáveis a seguir, a= True, b= False, c=True. Utilizando as expressões lógicas\n",
    "# do puthon calcule o valor booleano das expressões a seguir:\n",
    "# \"a\" and \"a\"?\n",
    "# \"b\" and \"b\"?\n",
    "# not \"c\"?\n",
    "# not \"b\"?\n",
    "# not \"a\"?\n",
    "# \"a\" e \"b\"?\n",
    "# \"b\" e \"c\"?\n",
    "# \"a\" or \"c\"?\n",
    "# \"b\" or \"c\"?\n",
    "# \"c\" or \"a\"?\n",
    "# \"c\" or \"b\"?\n",
    "# \"c\" or \"c\"?\n",
    "# \"b\" or \"b\"?\n",
    "# (\"a\" or \"b\") and \"c\"?\n",
    "# \"a\" and \"c\" and \"b\"?\n",
    "# \"a\" and (\"c\" and \"b\")?"
   ]
  },
  {
   "cell_type": "code",
   "execution_count": null,
   "metadata": {},
   "outputs": [],
   "source": [
    "# Exercício 8- Escreva uma expressão para determinar se uma pessoa deve ou não pagar imposto. Considere que pagam imposto\n",
    "# pessoas cujo salário é maior que R$ 1.200,00 "
   ]
  },
  {
   "cell_type": "code",
   "execution_count": null,
   "metadata": {},
   "outputs": [],
   "source": [
    "# Exercício 9- Escreva uma expressão que será usada para decidir se um aluno será ou não provado. Para ser aprovado, todas \n",
    "# as médias do aluno devem ser maiores do que 7. Considere que o aluno cursa três disciplinas e que a nota de cada uma está\n",
    "# armazenada nas variáveis: matéria1, matéria2 e matéria3."
   ]
  },
  {
   "cell_type": "code",
   "execution_count": null,
   "metadata": {
    "id": "Xb4oGxSZpxUm"
   },
   "outputs": [],
   "source": [
    "# Exercício 10- Faça um programa que peças dois números inteiros e imprima a soma desses dois números na tela."
   ]
  },
  {
   "cell_type": "code",
   "execution_count": null,
   "metadata": {},
   "outputs": [],
   "source": [
    "# Exercício 11- Escerva um programa que leia um valor em metros e exiba-o convertido em milímetros."
   ]
  },
  {
   "cell_type": "code",
   "execution_count": null,
   "metadata": {},
   "outputs": [],
   "source": [
    "# Exercício 12- Escreva um programa que leia a quantidade de dias, horas, minutos e segundos do usuário. \n",
    "# Calcule o total em segundos e exiba na tela"
   ]
  },
  {
   "cell_type": "code",
   "execution_count": null,
   "metadata": {},
   "outputs": [],
   "source": [
    "# Exercício 13- Faça um programa que solicite o preço de uma mercadoria e o percentual de desconto. Exiba o valor do  desconto  \n",
    "# e o preço a pagar."
   ]
  },
  {
   "cell_type": "code",
   "execution_count": null,
   "metadata": {},
   "outputs": [],
   "source": [
    "# Exercício 14- Faça um programa que calcule o tempo de uma viagem de carro. Pergunte a distância a se percorrer e a velocidade \n",
    "# média esperada para a viagem."
   ]
  },
  {
   "cell_type": "code",
   "execution_count": null,
   "metadata": {},
   "outputs": [],
   "source": [
    "# Exercício 15- Escreva um programa que converta uma temperatura digitada em ºC para ºF."
   ]
  },
  {
   "cell_type": "code",
   "execution_count": null,
   "metadata": {},
   "outputs": [],
   "source": [
    "# Exercício 16- Escreva um programa que pergunte a quantidade de kilômetros percorridos por um carro alugado pelo usuário, assim\n",
    "# como a quantidade de dias pelos quais o carro foi alugado. Calcule o preço a pagar sabendo que custa R$60,00 por dia 3 R$0,15\n",
    "# por kilômetro rodado."
   ]
  },
  {
   "cell_type": "code",
   "execution_count": null,
   "metadata": {},
   "outputs": [],
   "source": [
    "# Exercício 17- Escreva um programa para calcular a redução do tempo de vida de um fumante. Pergunte a quantidade de cigarros \n",
    "# fumados por dia e quantos anos ele já fumou. Considere que um fumante perde 10 minutos de vida a cada cigarro. Calcule quantos\n",
    "# dias de vida um fumante perderá. Exiba o total em dias"
   ]
  },
  {
   "cell_type": "markdown",
   "metadata": {
    "id": "ozLoV1dDpxUu"
   },
   "source": [
    "# Fim"
   ]
  },
  {
   "cell_type": "markdown",
   "metadata": {
    "id": "C9Pcru-PpxUu"
   },
   "source": [
    "### Obrigado\n",
    "\n"
   ]
  }
 ],
 "metadata": {
  "colab": {
   "collapsed_sections": [],
   "name": "Tópicos Especiais 1-Lista de Exercicios1.ipynb",
   "provenance": []
  },
  "kernelspec": {
   "display_name": "Python 3 (ipykernel)",
   "language": "python",
   "name": "python3"
  },
  "language_info": {
   "codemirror_mode": {
    "name": "ipython",
    "version": 3
   },
   "file_extension": ".py",
   "mimetype": "text/x-python",
   "name": "python",
   "nbconvert_exporter": "python",
   "pygments_lexer": "ipython3",
   "version": "3.9.12"
  }
 },
 "nbformat": 4,
 "nbformat_minor": 1
}
