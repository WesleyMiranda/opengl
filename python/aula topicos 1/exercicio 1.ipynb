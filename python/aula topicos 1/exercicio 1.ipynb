{
 "cells": [
  {
   "cell_type": "markdown",
   "metadata": {
    "id": "TK8E6jdTpxUg"
   },
   "source": [
    "# <font color='blue'>Tópicos Especiais 1 </font>\n",
    "### <font color='blue'>Exercícios de Variáveis </font>\n",
    "    "
   ]
  },
  {
   "cell_type": "markdown",
   "metadata": {
    "id": "kzVyvzF5pzEF"
   },
   "source": [
    "Nome: <br/>\n",
    "\n",
    "\n",
    "\n",
    "\n"
   ]
  },
  {
   "cell_type": "markdown",
   "metadata": {
    "id": "wEJG1wcXpxUl"
   },
   "source": [
    "## Exercícios Cap02"
   ]
  },
  {
   "cell_type": "code",
   "execution_count": null,
   "metadata": {},
   "outputs": [],
   "source": [
    "# Exercício 1 - Faça um programa que pergunte o seu nome o exiba na tela."
   ]
  },
  {
   "cell_type": "code",
   "execution_count": 1,
   "metadata": {},
   "outputs": [
    {
     "name": "stdout",
     "output_type": "stream",
     "text": [
      "Qual o seu nome? Wes\n",
      "Você se chama Wes\n"
     ]
    }
   ],
   "source": [
    "nome = input('Qual o seu nome? ');\n",
    "print(\"Você se chama %s\" %nome);"
   ]
  },
  {
   "cell_type": "code",
   "execution_count": null,
   "metadata": {},
   "outputs": [],
   "source": [
    "# Exercício 2 - Crie duas variáveis \"a\" e \"b\". Exiba na tela o resultado de 2a x 3b. Atribua a \"a\" o valor de 3 e \"b\" \n",
    "# o valor de 5."
   ]
  },
  {
   "cell_type": "code",
   "execution_count": 2,
   "metadata": {},
   "outputs": [
    {
     "name": "stdout",
     "output_type": "stream",
     "text": [
      "90\n"
     ]
    }
   ],
   "source": [
    "a, b = 3, 5\n",
    "print(2*a*3*b)"
   ]
  },
  {
   "cell_type": "code",
   "execution_count": null,
   "metadata": {},
   "outputs": [],
   "source": [
    "# Exercício 3 - Faça um programa em que você atribui valor a três variáveis. Depois imprima a soma das três na tela."
   ]
  },
  {
   "cell_type": "code",
   "execution_count": 1,
   "metadata": {},
   "outputs": [
    {
     "name": "stdout",
     "output_type": "stream",
     "text": [
      "soma: 9\n"
     ]
    }
   ],
   "source": [
    "a, b, c = 3, 5, 1\n",
    "soma = a+b+c\n",
    "print(\"soma: %s\" %soma)"
   ]
  },
  {
   "cell_type": "code",
   "execution_count": null,
   "metadata": {},
   "outputs": [],
   "source": [
    "# Exercício 4 - Faça um programa que calcule o aumento de salário. Ele deve solicitar o valor do salário e a porcentagem de \n",
    "# aumento. Exiba o valor do aumento e do novo salário"
   ]
  },
  {
   "cell_type": "code",
   "execution_count": 5,
   "metadata": {},
   "outputs": [
    {
     "name": "stdout",
     "output_type": "stream",
     "text": [
      "Informe o valor do salário: 1000\n",
      "Informe a porcentagem de aumento: 1.15\n",
      "Seu novo salario é: 1150.00\n"
     ]
    }
   ],
   "source": [
    "salario = float(input(\"Informe o valor do salário: \"));\n",
    "porcentagem = float(input(\"Informe a porcentagem de aumento: \"));\n",
    "\n",
    "novosalario = salario*porcentagem;\n",
    "print(\"Seu novo salario é: %.2f\" %novosalario);"
   ]
  },
  {
   "cell_type": "code",
   "execution_count": 1,
   "metadata": {},
   "outputs": [],
   "source": [
    "# Exercício 5- Crie uma lista com os elementos a seguir: 10, 3.14, 'Tópicos Especiais 1'. Além desses três elementos,\n",
    "# no um quarto elemento coloque uma lista aninhada com o valor 20 dentro dela. Utilize a função type() e a indexação\n",
    "# e faça o python imprimir na tela o tipo de cada elemento da lista maior. "
   ]
  },
  {
   "cell_type": "code",
   "execution_count": 17,
   "metadata": {},
   "outputs": [
    {
     "name": "stdout",
     "output_type": "stream",
     "text": [
      "Type[0]:<class 'int'>\n",
      "Type[1]:<class 'float'>\n",
      "Type[2]:<class 'str'>\n",
      "Type[3]:<class 'list'>\n"
     ]
    }
   ],
   "source": [
    "minhalista = [10, 3.14, 'Tópicos Especiais 1', [20]];\n",
    "count = 0\n",
    "for i in minhalista:\n",
    "    tipo = str(type(i))\n",
    "    print(\"Type[%s]:\" %count + tipo)\n",
    "    count+=1\n"
   ]
  },
  {
   "cell_type": "code",
   "execution_count": 10,
   "metadata": {},
   "outputs": [],
   "source": [
    "# Exercício 6- Considere as seguintes variáveis a=4, b=10, c= 5.0 d=1 e f=5. Utilizando as expressões relacionais responda as\n",
    "# perguntas a seguir:\n",
    "# \"a\" é igual a \"c\"?\n",
    "# \"b\" é menor que \"a\"?\n",
    "# \"d\" é maior que \"b\"?\n",
    "# \"c\" é diferente de \"f\"?\n",
    "# \"a\" é igual a \"b\"?\n",
    "# \"c\" é menor que \"b\"?\n",
    "# \"b\" é maior que \"a\"?\n",
    "# \"c\" é maior ou igual a \"f\"?\n",
    "# \"f\" é maior ou igual a \"c\"?\n",
    "# \"c\" é menor ou igual a \"c\"?\n",
    "# \"c\" é menor ou igual a \"f\"?"
   ]
  },
  {
   "cell_type": "code",
   "execution_count": 21,
   "metadata": {},
   "outputs": [
    {
     "name": "stdout",
     "output_type": "stream",
     "text": [
      "\"a\" é igual a \"c\"? False\n",
      " \"b\" é menor que \"a\"? False\n",
      " \"d\" é maior que \"b\"? False\n",
      " \"c\" é diferente de \"f\"? False\n",
      " \"a\" é igual a \"b\"? False\n",
      " \"c\" é menor que \"b\"? True\n",
      " \"b\" é maior que \"a\"? True\n",
      " \"c\" é maior ou igual a \"f\"? True\n",
      " \"f\" é maior ou igual a \"c\"? True\n",
      " \"c\" é menor ou igual a \"c\"? True\n",
      " \"c\" é menor ou igual a \"f\"? True\n"
     ]
    }
   ],
   "source": [
    "a=4\n",
    "b=10\n",
    "c= 5.0\n",
    "d=1\n",
    "f=5\n",
    "\n",
    "print('\"a\" é igual a \"c\"? ' + str(a==c))\n",
    "print(' \"b\" é menor que \"a\"? '+ str(b<a))\n",
    "print(' \"d\" é maior que \"b\"? '+ str(d>b))\n",
    "print(' \"c\" é diferente de \"f\"? '+ str(c!=f))\n",
    "print(' \"a\" é igual a \"b\"? '+ str(a==b))\n",
    "print(' \"c\" é menor que \"b\"? '+ str(c<b))\n",
    "print(' \"b\" é maior que \"a\"? '+ str(b>a))\n",
    "print(' \"c\" é maior ou igual a \"f\"? '+ str(c>=f))\n",
    "print(' \"f\" é maior ou igual a \"c\"? '+ str(f>=c))\n",
    "print(' \"c\" é menor ou igual a \"c\"? '+ str(c<=c))\n",
    "print(' \"c\" é menor ou igual a \"f\"? '+ str(c<=f))"
   ]
  },
  {
   "cell_type": "code",
   "execution_count": null,
   "metadata": {},
   "outputs": [],
   "source": [
    "# Exercício 7- Considere os valores lógicos das varáveis a seguir, a= True, b= False, c=True. Utilizando as expressões lógicas\n",
    "# do puthon calcule o valor booleano das expressões a seguir:\n",
    "# \"a\" and \"a\"?\n",
    "# \"b\" and \"b\"?\n",
    "# not \"c\"?\n",
    "# not \"b\"?\n",
    "# not \"a\"?\n",
    "# \"a\" e \"b\"?\n",
    "# \"b\" e \"c\"?\n",
    "# \"a\" or \"c\"?\n",
    "# \"b\" or \"c\"?\n",
    "# \"c\" or \"a\"?\n",
    "# \"c\" or \"b\"?\n",
    "# \"c\" or \"c\"?\n",
    "# \"b\" or \"b\"?\n",
    "# (\"a\" or \"b\") and \"c\"?\n",
    "# \"a\" and \"c\" and \"b\"?\n",
    "# \"a\" and (\"c\" and \"b\")?"
   ]
  },
  {
   "cell_type": "code",
   "execution_count": null,
   "metadata": {},
   "outputs": [],
   "source": [
    "a= True\n",
    "b= False\n",
    "c=True\n",
    "\n",
    "print(' \"a\" and \"a\"?' + str(a and b))\n",
    "print(' \"b\" and \"b\"?' + str(b and b))\n",
    "print(' not \"c\"?' + str(not c))\n",
    "print(' not \"b\"?' + str(not b))\n",
    "print(' not \"a\"?' + str(not a))\n",
    "print(' \"a\" e \"b\"?' + str(a and b))\n",
    "print(' \"b\" e \"c\"?' + str(b and c))\n",
    "print(' \"a\" or \"c\"?' + str(a or c))\n",
    "print(' \"b\" or \"c\"?' + str(b or c))\n",
    "print(' \"c\" or \"a\"?' + str(c or a))\n",
    "print(' \"c\" or \"b\"?' + str(c or b))\n",
    "print(' \"c\" or \"c\"?' + str(c or c))\n",
    "print(' \"b\" or \"b\"?' + str(b or b))\n",
    "print(' (\"a\" or \"b\") and \"c\"?' + str((a or b) and c))\n",
    "print(' \"a\" and \"c\" and \"b\"?' + str(a and c and b))\n",
    "print(' \"a\" and (\"c\" and \"b\")?' + str(a and(c and b)))"
   ]
  },
  {
   "cell_type": "code",
   "execution_count": null,
   "metadata": {},
   "outputs": [],
   "source": [
    "# Exercício 8- Escreva uma expressão para determinar se uma pessoa deve ou não pagar imposto. Considere que pagam imposto\n",
    "# pessoas cujo salário é maior que R$ 1.200,00 "
   ]
  },
  {
   "cell_type": "code",
   "execution_count": 25,
   "metadata": {},
   "outputs": [
    {
     "name": "stdout",
     "output_type": "stream",
     "text": [
      "Qual o seu salario?2\n",
      "Você não precisa pagar impostos\n"
     ]
    }
   ],
   "source": [
    "salario = float(input(\"Qual o seu salario?\"))\n",
    "\n",
    "if salario > 1200 :\n",
    "    print(\"Você deve pagar impostos\")\n",
    "else :\n",
    "    print(\"Você não precisa pagar impostos\")\n"
   ]
  },
  {
   "cell_type": "code",
   "execution_count": null,
   "metadata": {},
   "outputs": [],
   "source": [
    "# Exercício 9- Escreva uma expressão que será usada para decidir se um aluno será ou não provado. Para ser aprovado, todas \n",
    "# as médias do aluno devem ser maiores do que 7. Considere que o aluno cursa três disciplinas e que a nota de cada uma está\n",
    "# armazenada nas variáveis: matéria1, matéria2 e matéria3."
   ]
  },
  {
   "cell_type": "code",
   "execution_count": 31,
   "metadata": {},
   "outputs": [
    {
     "name": "stdout",
     "output_type": "stream",
     "text": [
      "Informe o valor da sua media: 8\n",
      "Informe o valor da sua media: 8\n",
      "Informe o valor da sua media: 7.1\n",
      "Aprovado\n"
     ]
    }
   ],
   "source": [
    "matéria1 = float(input(\"Informe o valor da sua media: \"))\n",
    "matéria2 = float(input(\"Informe o valor da sua media: \"))\n",
    "matéria3 = float(input(\"Informe o valor da sua media: \"))\n",
    "\n",
    "if ((matéria1 > 7) and (matéria2 >7) and (matéria3 > 7)) :\n",
    "    print(\"Aprovado\")\n",
    "else :\n",
    "    print(\"Reprovado\")"
   ]
  },
  {
   "cell_type": "code",
   "execution_count": 30,
   "metadata": {
    "id": "Xb4oGxSZpxUm"
   },
   "outputs": [],
   "source": [
    "# Exercício 10- Faça um programa que peças dois números inteiros e imprima a soma desses dois números na tela."
   ]
  },
  {
   "cell_type": "code",
   "execution_count": 32,
   "metadata": {},
   "outputs": [
    {
     "name": "stdout",
     "output_type": "stream",
     "text": [
      "Informe o primeiro numero: 2\n",
      "Informe o segundo numero: 2\n",
      "Soma: 4: \n"
     ]
    }
   ],
   "source": [
    "a = int(input(\"Informe o primeiro numero: \"))\n",
    "b = int(input(\"Informe o segundo numero: \"))\n",
    "\n",
    "print(\"Soma: %s \" %(a+b))"
   ]
  },
  {
   "cell_type": "code",
   "execution_count": null,
   "metadata": {},
   "outputs": [],
   "source": [
    "# Exercício 11- Escerva um programa que leia um valor em metros e exiba-o convertido em milímetros."
   ]
  },
  {
   "cell_type": "code",
   "execution_count": 33,
   "metadata": {},
   "outputs": [
    {
     "name": "stdout",
     "output_type": "stream",
     "text": [
      "Informe a metragem: 2\n",
      "Equivale a 2000 milímetros.\n"
     ]
    }
   ],
   "source": [
    "a = float(input(\"Informe a metragem: \"))\n",
    "print(\"Equivale a %.0f milímetros.\" %(a*1000));\n"
   ]
  },
  {
   "cell_type": "code",
   "execution_count": null,
   "metadata": {},
   "outputs": [],
   "source": [
    "# Exercício 12- Escreva um programa que leia a quantidade de dias, horas, minutos e segundos do usuário. \n",
    "# Calcule o total em segundos e exiba na tela"
   ]
  },
  {
   "cell_type": "code",
   "execution_count": 34,
   "metadata": {},
   "outputs": [
    {
     "name": "stdout",
     "output_type": "stream",
     "text": [
      "Dias: 2\n",
      "Horas: 1\n",
      "Minutos: 1\n",
      "Segundos: 1\n",
      "A quantidade de segundos é: 176461\n"
     ]
    }
   ],
   "source": [
    "d = int(input(\"Dias: \"))\n",
    "h = int(input(\"Horas: \"))\n",
    "m = int(input(\"Minutos: \"))\n",
    "s = int(input(\"Segundos: \"))\n",
    "\n",
    "sec = d*24*60*60+h*60*60+m*60+s;\n",
    "print(\"A quantidade de segundos é: %s\" %sec)"
   ]
  },
  {
   "cell_type": "code",
   "execution_count": null,
   "metadata": {},
   "outputs": [],
   "source": [
    "# Exercício 13- Faça um programa que solicite o preço de uma mercadoria e o percentual de desconto. Exiba o valor do  desconto  \n",
    "# e o preço a pagar."
   ]
  },
  {
   "cell_type": "code",
   "execution_count": 2,
   "metadata": {},
   "outputs": [
    {
     "name": "stdout",
     "output_type": "stream",
     "text": [
      "Valor mercadoria: 2000\n",
      "Percentual desconto: 0.15\n",
      "Valor da mercadoria com desconto: 1700.00\n",
      "Valor descontado: 300.00\n"
     ]
    }
   ],
   "source": [
    "m = float(input(\"Valor mercadoria: \"))\n",
    "d = float(input(\"Percentual desconto: \"))\n",
    "\n",
    "mercadoriacomdesconto = m*(1-d)\n",
    "valordescontado = m - mercadoriacomdesconto\n",
    "\n",
    "print('Valor da mercadoria com desconto: %.2f' %(mercadoriacomdesconto))\n",
    "print('Valor descontado: %.2f' %valordescontado )"
   ]
  },
  {
   "cell_type": "code",
   "execution_count": null,
   "metadata": {},
   "outputs": [],
   "source": [
    "# Exercício 14- Faça um programa que calcule o tempo de uma viagem de carro. Pergunte a distância a se percorrer e a velocidade \n",
    "# média esperada para a viagem."
   ]
  },
  {
   "cell_type": "code",
   "execution_count": null,
   "metadata": {},
   "outputs": [],
   "source": [
    "d = float(input('informe a distancia'))\n",
    "v = float(input('informe a velocidade media'))\n",
    "\n",
    "print('O tempo estimado para esta viagem é de: %.2f horas' %(d/v))"
   ]
  },
  {
   "cell_type": "code",
   "execution_count": null,
   "metadata": {},
   "outputs": [],
   "source": [
    "# Exercício 15- Escreva um programa que converta uma temperatura digitada em ºC para ºF."
   ]
  },
  {
   "cell_type": "code",
   "execution_count": 4,
   "metadata": {},
   "outputs": [
    {
     "name": "stdout",
     "output_type": "stream",
     "text": [
      "informe a temperatura em ºC: 2\n",
      "A temperatura é de 35.60 ºC\n"
     ]
    }
   ],
   "source": [
    "c = float(input('informe a temperatura em ºC: '))\n",
    "f = c*9/5+32\n",
    "print(\"A temperatura é de %.2f ºC\" %f)"
   ]
  },
  {
   "cell_type": "code",
   "execution_count": null,
   "metadata": {},
   "outputs": [],
   "source": [
    "# Exercício 16- Escreva um programa que pergunte a quantidade de kilômetros percorridos por um carro alugado pelo usuário, assim\n",
    "# como a quantidade de dias pelos quais o carro foi alugado. Calcule o preço a pagar sabendo que custa R$60,00 por dia 3 R$0,15\n",
    "# por kilômetro rodado."
   ]
  },
  {
   "cell_type": "code",
   "execution_count": null,
   "metadata": {},
   "outputs": [],
   "source": [
    "d = float(input('dias alugados: '))\n",
    "km = float(input('km rodado: '))\n",
    "\n",
    "valor = d * 60 + 0,15*km\n",
    "\n",
    "print(\"Valor a pagar: %.2f\" %valor )"
   ]
  },
  {
   "cell_type": "code",
   "execution_count": null,
   "metadata": {},
   "outputs": [],
   "source": [
    "# Exercício 17- Escreva um programa para calcular a redução do tempo de vida de um fumante. Pergunte a quantidade de cigarros \n",
    "# fumados por dia e quantos anos ele já fumou. Considere que um fumante perde 10 minutos de vida a cada cigarro. Calcule quantos\n",
    "# dias de vida um fumante perderá. Exiba o total em dias"
   ]
  },
  {
   "cell_type": "code",
   "execution_count": 8,
   "metadata": {},
   "outputs": [
    {
     "name": "stdout",
     "output_type": "stream",
     "text": [
      "Quantidade de cigarros/dia: 5\n",
      "Anos como fumante: 2\n",
      "25.34722222222222 dias perdidos.\n"
     ]
    }
   ],
   "source": [
    "cigarros = float(input('Quantidade de cigarros/dia: '))\n",
    "anos = float(input('Anos como fumante: '))\n",
    "\n",
    "diasperdidos = (10*cigarros*anos*365)/(60*24)\n",
    "\n",
    "print(\"%s dias perdidos.\" %diasperdidos)\n"
   ]
  },
  {
   "cell_type": "markdown",
   "metadata": {
    "id": "ozLoV1dDpxUu"
   },
   "source": [
    "# Fim"
   ]
  },
  {
   "cell_type": "markdown",
   "metadata": {
    "id": "C9Pcru-PpxUu"
   },
   "source": [
    "### Obrigado\n",
    "\n"
   ]
  }
 ],
 "metadata": {
  "colab": {
   "collapsed_sections": [],
   "name": "Tópicos Especiais 1-Lista de Exercicios1.ipynb",
   "provenance": []
  },
  "kernelspec": {
   "display_name": "Python 3 (ipykernel)",
   "language": "python",
   "name": "python3"
  },
  "language_info": {
   "codemirror_mode": {
    "name": "ipython",
    "version": 3
   },
   "file_extension": ".py",
   "mimetype": "text/x-python",
   "name": "python",
   "nbconvert_exporter": "python",
   "pygments_lexer": "ipython3",
   "version": "3.9.12"
  }
 },
 "nbformat": 4,
 "nbformat_minor": 1
}
